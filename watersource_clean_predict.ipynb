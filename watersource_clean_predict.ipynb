{
 "cells": [
  {
   "cell_type": "markdown",
   "metadata": {},
   "source": [
    "This data comes from Taarifa's dashboards which aggregate data from the Tanzanian Ministry of Water. It was made available so that citizens can stay engaged with the local government and hold them accountable. The dataset includes 40 features from almost 75,000 water pumps across the country. Examples of some of the features include geographic location of waterpumps, water quality and quantity measures, the companies that install, fund and maintain the pumps, and whether communities are paying for the water.\n",
    "\n",
    "The government's goal is to provide clean water to communities across the country. By understanding which pumps might fail, they can improve maintenance and operations. "
   ]
  },
  {
   "cell_type": "code",
   "execution_count": 1,
   "metadata": {
    "collapsed": true
   },
   "outputs": [],
   "source": [
    "# Import packages\n",
    "import pandas as pd\n",
    "import numpy as np\n",
    "import matplotlib.pyplot as plt\n",
    "% matplotlib inline\n",
    "import seaborn as sns\n",
    "import sklearn"
   ]
  },
  {
   "cell_type": "code",
   "execution_count": 2,
   "metadata": {
    "collapsed": false
   },
   "outputs": [],
   "source": [
    "# Import csv files\n",
    "train = pd.read_csv(\"train_values.csv\")\n",
    "test = pd.read_csv(\"test_values.csv\")\n",
    "train_labels = pd.read_csv(\"train_labels.csv\")"
   ]
  },
  {
   "cell_type": "code",
   "execution_count": 3,
   "metadata": {
    "collapsed": false
   },
   "outputs": [],
   "source": [
    "# Drop unnamed columns with blank values\n",
    "train_labels = train_labels.drop(['Unnamed: 2', 'Unnamed: 3', 'Unnamed: 4'], axis=1)"
   ]
  },
  {
   "cell_type": "markdown",
   "metadata": {},
   "source": [
    "We want to merge the train_labels dataset with the train dataset on the key 'id.' This is because we want the target values in the dataset which we train our model on. "
   ]
  },
  {
   "cell_type": "code",
   "execution_count": 4,
   "metadata": {
    "collapsed": true
   },
   "outputs": [],
   "source": [
    "# Merge train and train labels\n",
    "train_data = pd.merge(train, train_labels, how='inner', on=['id'])"
   ]
  },
  {
   "cell_type": "code",
   "execution_count": 5,
   "metadata": {
    "collapsed": false
   },
   "outputs": [
    {
     "name": "stdout",
     "output_type": "stream",
     "text": [
      "(59400, 41) (14850, 40)\n"
     ]
    }
   ],
   "source": [
    "# Print shape of train and test data \n",
    "\n",
    "train_shape = train_data.shape\n",
    "test_shape = test.shape\n",
    "print(train_shape, test_shape)"
   ]
  },
  {
   "cell_type": "markdown",
   "metadata": {},
   "source": [
    "Status_group in the dataset train_labels is the column that contains the target values we're trying to predict in the test data. Below, we visualize the values of status_group to get a sense of the distribution of waterpumps that are functional, non-functional, or that need repair. "
   ]
  },
  {
   "cell_type": "code",
   "execution_count": 6,
   "metadata": {
    "collapsed": false
   },
   "outputs": [
    {
     "data": {
      "image/png": "[encoded data removed]",
      "text/plain": [
       "<matplotlib.figure.Figure at 0x11be2e438>"
      ]
     },
     "metadata": {},
     "output_type": "display_data"
    }
   ],
   "source": [
    "# Explore counts of the status group by category\n",
    "\n",
    "sns.countplot(train_labels[\"status_group\"])\n",
    "plt.show()"
   ]
  },
  {
   "cell_type": "code",
   "execution_count": 7,
   "metadata": {
    "collapsed": false
   },
   "outputs": [
    {
     "name": "stdout",
     "output_type": "stream",
     "text": [
      "<class 'pandas.core.frame.DataFrame'>\n",
      "Int64Index: 59400 entries, 0 to 59399\n",
      "Data columns (total 41 columns):\n",
      "id                       59400 non-null int64\n",
      "amount_tsh               59400 non-null object\n",
      "date_recorded            59400 non-null object\n",
      "funder                   55765 non-null object\n",
      "gps_height               59400 non-null int64\n",
      "installer                55745 non-null object\n",
      "longitude                59400 non-null float64\n",
      "latitude                 59400 non-null float64\n",
      "wpt_name                 59400 non-null object\n",
      "num_private              59400 non-null int64\n",
      "basin                    59400 non-null object\n",
      "subvillage               59029 non-null object\n",
      "region                   59400 non-null object\n",
      "region_code              59400 non-null int64\n",
      "district_code            59400 non-null int64\n",
      "lga                      59400 non-null object\n",
      "ward                     59400 non-null object\n",
      "population               59400 non-null int64\n",
      "public_meeting           56066 non-null object\n",
      "recorded_by              59400 non-null object\n",
      "scheme_management        55523 non-null object\n",
      "scheme_name              31234 non-null object\n",
      "permit                   56344 non-null object\n",
      "construction_year        59400 non-null int64\n",
      "extraction_type          59400 non-null object\n",
      "extraction_type_group    59400 non-null object\n",
      "extraction_type_class    59400 non-null object\n",
      "management               59400 non-null object\n",
      "management_group         59400 non-null object\n",
      "payment                  59400 non-null object\n",
      "payment_type             59400 non-null object\n",
      "water_quality            59400 non-null object\n",
      "quality_group            59400 non-null object\n",
      "quantity                 59400 non-null object\n",
      "quantity_group           59400 non-null object\n",
      "source                   59400 non-null object\n",
      "source_type              59400 non-null object\n",
      "source_class             59400 non-null object\n",
      "waterpoint_type          59400 non-null object\n",
      "waterpoint_type_group    59400 non-null object\n",
      "status_group             59400 non-null object\n",
      "dtypes: float64(2), int64(7), object(32)\n",
      "memory usage: 19.0+ MB\n",
      "None\n"
     ]
    }
   ],
   "source": [
    "# Assess which variables are integers, objects, or floats and how many null values exist in train dataset\n",
    "\n",
    "print(train_data.info())"
   ]
  },
  {
   "cell_type": "markdown",
   "metadata": {},
   "source": [
    "There are 40 features in the train dataset, but not all of them are relevant to our prediction. We'll want to remove any columns that aren't relevant to predicting the water pump functionality, those columns with so much missing information that we might deem them unusable, and columns with redundant information.\n",
    "\n",
    "The following are columns with information that's redundant to other columns in the dataset. \n",
    "* payment_type: Redundant column to payment\n",
    "* quality_group: Nearly redundant to water_quality; 1 less category\n",
    "* quantity_group: Redundant column to quantity \n",
    "* extraction_type_group: Almost identical to extraction_type variable \n",
    "* scheme_management: Almost identical to management, but this variable has missing values\n",
    "\n",
    "The following columns aren't usable: \n",
    "* num_private: 99% of the data in this column is missing\n",
    "* amount_tsh: >80% of the values are missing\n",
    "* date_recorded: Not relevant to target variable\n",
    "* recorded_by: All data was recorded by GeoData Consultants Ltd.\n",
    "* id: id number doesn't contain information for prediction since each value is unique\n",
    "* wpt_name: Each waterpoint has a unique name so this feature also isn't helpful for prediction"
   ]
  },
  {
   "cell_type": "code",
   "execution_count": 8,
   "metadata": {
    "collapsed": false
   },
   "outputs": [],
   "source": [
    "# Drop columns that aren't relevant to the model except id so that it can be used for submission\n",
    "\n",
    "def drop_columns(dataset, list):\n",
    "        return dataset.drop(list, axis=1)\n",
    "        \n",
    "list = ['num_private', 'amount_tsh', 'date_recorded' ,'recorded_by', 'wpt_name', 'payment_type', 'quality_group', 'quantity_group', 'extraction_type_group', \n",
    "        'scheme_management']\n",
    "train_data = drop_columns(train_data, list)"
   ]
  },
  {
   "cell_type": "code",
   "execution_count": 9,
   "metadata": {
    "collapsed": false
   },
   "outputs": [
    {
     "name": "stdout",
     "output_type": "stream",
     "text": [
      "<class 'pandas.core.frame.DataFrame'>\n",
      "Int64Index: 59400 entries, 0 to 59399\n",
      "Data columns (total 31 columns):\n",
      "id                       59400 non-null int64\n",
      "funder                   55765 non-null object\n",
      "gps_height               59400 non-null int64\n",
      "installer                55745 non-null object\n",
      "longitude                59400 non-null float64\n",
      "latitude                 59400 non-null float64\n",
      "basin                    59400 non-null object\n",
      "subvillage               59029 non-null object\n",
      "region                   59400 non-null object\n",
      "region_code              59400 non-null int64\n",
      "district_code            59400 non-null int64\n",
      "lga                      59400 non-null object\n",
      "ward                     59400 non-null object\n",
      "population               59400 non-null int64\n",
      "public_meeting           56066 non-null object\n",
      "scheme_name              31234 non-null object\n",
      "permit                   56344 non-null object\n",
      "construction_year        59400 non-null int64\n",
      "extraction_type          59400 non-null object\n",
      "extraction_type_class    59400 non-null object\n",
      "management               59400 non-null object\n",
      "management_group         59400 non-null object\n",
      "payment                  59400 non-null object\n",
      "water_quality            59400 non-null object\n",
      "quantity                 59400 non-null object\n",
      "source                   59400 non-null object\n",
      "source_type              59400 non-null object\n",
      "source_class             59400 non-null object\n",
      "waterpoint_type          59400 non-null object\n",
      "waterpoint_type_group    59400 non-null object\n",
      "status_group             59400 non-null object\n",
      "dtypes: float64(2), int64(6), object(23)\n",
      "memory usage: 14.5+ MB\n",
      "None\n"
     ]
    }
   ],
   "source": [
    "print(train_data.info())"
   ]
  },
  {
   "cell_type": "markdown",
   "metadata": {},
   "source": [
    "Let's look at descriptive statistics for each variable to understand the nature of our data. First, we'll look at the value counts for each categorical variable (object). Then, we'll look at integers and floats. "
   ]
  },
  {
   "cell_type": "code",
   "execution_count": 10,
   "metadata": {
    "collapsed": false
   },
   "outputs": [],
   "source": [
    "# Subset dataframe for those variables that are objects\n",
    "\n",
    "obj_columns = train_data.select_dtypes(include=['object'])"
   ]
  },
  {
   "cell_type": "code",
   "execution_count": 11,
   "metadata": {
    "collapsed": false
   },
   "outputs": [
    {
     "name": "stdout",
     "output_type": "stream",
     "text": [
      "Government Of Tanzania    9084\n",
      "Danida                    3114\n",
      "Hesawa                    2202\n",
      "Rwssp                     1374\n",
      "World Bank                1349\n",
      "Kkkt                      1287\n",
      "World Vision              1246\n",
      "Unicef                    1057\n",
      "Tasaf                      877\n",
      "District Council           843\n",
      "Dhv                        829\n",
      "Private Individual         826\n",
      "Dwsp                       811\n",
      "0                          777\n",
      "Norad                      765\n",
      "Germany Republi            610\n",
      "Tcrs                       602\n",
      "Ministry Of Water          590\n",
      "Water                      583\n",
      "Dwe                        484\n",
      "Netherlands                470\n",
      "Hifab                      450\n",
      "Adb                        448\n",
      "Lga                        442\n",
      "Amref                      425\n",
      "Fini Water                 393\n",
      "Oxfam                      359\n",
      "Wateraid                   333\n",
      "Rc Church                  321\n",
      "Isf                        316\n",
      "                          ... \n",
      "Mtambo                       1\n",
      "Ruvu Darajani                1\n",
      "Dina                         1\n",
      "Piscope                      1\n",
      "Health  Ministry             1\n",
      "Hery                         1\n",
      "Matimbwa Sec                 1\n",
      "Opec                         1\n",
      "Maju Mugumu                  1\n",
      "Maerere                      1\n",
      "Mzee Mabena                  1\n",
      "Kolopin                      1\n",
      "Saudia                       1\n",
      "Fdc                          1\n",
      "Ms-danish                    1\n",
      "Mzee Yassin Naya             1\n",
      "Scholastica Pankrasi         1\n",
      "Gurdians                     1\n",
      "Kilimo                       1\n",
      "Warento                      1\n",
      "Bgssws                       1\n",
      "Makanga                      1\n",
      "Caltaz Kahama                1\n",
      "Worldvision                  1\n",
      "Tlc/sorri                    1\n",
      "Quicklw                      1\n",
      "Mbozi Hospital               1\n",
      "Tanload                      1\n",
      "Msikiti Masji                1\n",
      "Ramsar                       1\n",
      "Name: funder, dtype: int64\n",
      "DWE                               17402\n",
      "Government                         1825\n",
      "RWE                                1206\n",
      "Commu                              1060\n",
      "DANIDA                             1050\n",
      "KKKT                                898\n",
      "Hesawa                              840\n",
      "0                                   777\n",
      "TCRS                                707\n",
      "Central government                  622\n",
      "CES                                 610\n",
      "Community                           553\n",
      "DANID                               552\n",
      "District Council                    551\n",
      "HESAWA                              539\n",
      "World vision                        408\n",
      "LGA                                 408\n",
      "WEDECO                              397\n",
      "TASAF                               396\n",
      "District council                    392\n",
      "Gover                               383\n",
      "AMREF                               329\n",
      "TWESA                               316\n",
      "WU                                  301\n",
      "Dmdd                                287\n",
      "ACRA                                278\n",
      "World Vision                        270\n",
      "SEMA                                249\n",
      "DW                                  246\n",
      "OXFAM                               234\n",
      "                                  ...  \n",
      "Mungaya                               1\n",
      "Regwa Company                         1\n",
      "Dawasco                               1\n",
      "TAIPO                                 1\n",
      "Rashid Seng'ombe                      1\n",
      "Tadeo                                 1\n",
      "Magani                                1\n",
      "BABTEST                               1\n",
      "Seleman Masoud                        1\n",
      "CHONJA CHARLES                        1\n",
      "Bingo foundation Germany              1\n",
      "Sweeden                               1\n",
      "Siza Mayengo                          1\n",
      "Ardhi and PET Companies               1\n",
      "Hasawa                                1\n",
      "Ubalozi wa Marekani /DWE              1\n",
      "Colonial government                   1\n",
      "Insititutiona                         1\n",
      "MBULU DISTRICT COUNCIL                1\n",
      "Friedkin conservation fund            1\n",
      "Got                                   1\n",
      "Juma Makulilo                         1\n",
      "DAR ES SALAAM ROUND TABLE             1\n",
      "Indiv                                 1\n",
      "Raurensia                             1\n",
      "AFRICAN REFLECTIONS FOUNDATION        1\n",
      "AIC KI                                1\n",
      "CVS Miss                              1\n",
      "Segera Estate                         1\n",
      "DAWASA                                1\n",
      "Name: installer, dtype: int64\n",
      "Lake Victoria              10248\n",
      "Pangani                     8940\n",
      "Rufiji                      7976\n",
      "Internal                    7785\n",
      "Lake Tanganyika             6432\n",
      "Wami / Ruvu                 5987\n",
      "Lake Nyasa                  5085\n",
      "Ruvuma / Southern Coast     4493\n",
      "Lake Rukwa                  2454\n",
      "Name: basin, dtype: int64\n",
      "Madukani              508\n",
      "Shuleni               506\n",
      "Majengo               502\n",
      "Kati                  373\n",
      "Mtakuja               262\n",
      "Sokoni                232\n",
      "M                     187\n",
      "Muungano              172\n",
      "Mbuyuni               164\n",
      "Mlimani               152\n",
      "Songambele            147\n",
      "Miembeni              134\n",
      "Msikitini             134\n",
      "1                     132\n",
      "Kibaoni               114\n",
      "Kanisani              111\n",
      "Mapinduzi             109\n",
      "I                     109\n",
      "Mjimwema              108\n",
      "Mjini                 108\n",
      "Mkwajuni              104\n",
      "Mwenge                102\n",
      "Mabatini               98\n",
      "Azimio                 98\n",
      "Mission                95\n",
      "Mbugani                95\n",
      "Bwawani                91\n",
      "Bondeni                90\n",
      "Chang'Ombe             88\n",
      "Zahanati               86\n",
      "                     ... \n",
      "Kokikerege              1\n",
      "Mwamidu                 1\n",
      "Ilekebu                 1\n",
      "Dakashega               1\n",
      "Mtafuteni               1\n",
      "Njiinjira               1\n",
      "Miyunga                 1\n",
      "Mao Kati                1\n",
      "Upanga                  1\n",
      "Katente Namba Moja      1\n",
      "Nyamaraga               1\n",
      "Zagaza B                1\n",
      "Kishumundu Kati         1\n",
      "Lugogo                  1\n",
      "Ibambasi                1\n",
      "Kabaganda B             1\n",
      "Kaepu                   1\n",
      "Kilimabuye              1\n",
      "Ngokumeni               1\n",
      "Engloriti               1\n",
      "Nyamitita               1\n",
      "Endallah                1\n",
      "Kilugo                  1\n",
      "Omurutoma               1\n",
      "Masandare               1\n",
      "Ilyomo                  1\n",
      "Viwege                  1\n",
      "Mwakalila               1\n",
      "Kipara                  1\n",
      "Hinala                  1\n",
      "Name: subvillage, dtype: int64\n",
      "Iringa           5294\n",
      "Shinyanga        4982\n",
      "Mbeya            4639\n",
      "Kilimanjaro      4379\n",
      "Morogoro         4006\n",
      "Arusha           3350\n",
      "Kagera           3316\n",
      "Mwanza           3102\n",
      "Kigoma           2816\n",
      "Ruvuma           2640\n",
      "Pwani            2635\n",
      "Tanga            2547\n",
      "Dodoma           2201\n",
      "Singida          2093\n",
      "Mara             1969\n",
      "Tabora           1959\n",
      "Rukwa            1808\n",
      "Mtwara           1730\n",
      "Manyara          1583\n",
      "Lindi            1546\n",
      "Dar es Salaam     805\n",
      "Name: region, dtype: int64\n",
      "Njombe              2503\n",
      "Arusha Rural        1252\n",
      "Moshi Rural         1251\n",
      "Bariadi             1177\n",
      "Rungwe              1106\n",
      "Kilosa              1094\n",
      "Kasulu              1047\n",
      "Mbozi               1034\n",
      "Meru                1009\n",
      "Bagamoyo             997\n",
      "Singida Rural        995\n",
      "Kilombero            959\n",
      "Same                 877\n",
      "Kibondo              874\n",
      "Kyela                859\n",
      "Kahama               836\n",
      "Kigoma Rural         824\n",
      "Magu                 824\n",
      "Maswa                809\n",
      "Karagwe              771\n",
      "Mbinga               750\n",
      "Iringa Rural         728\n",
      "Serengeti            716\n",
      "Lushoto              694\n",
      "Namtumbo             694\n",
      "Songea Rural         693\n",
      "Mpanda               679\n",
      "Mvomero              671\n",
      "Ngara                669\n",
      "Ulanga               665\n",
      "                    ... \n",
      "Newala               231\n",
      "Bahi                 224\n",
      "Kisarawe             223\n",
      "Temeke               215\n",
      "Rorya                210\n",
      "Tarime               209\n",
      "Ngorongoro           201\n",
      "Kiteto               193\n",
      "Shinyanga Urban      191\n",
      "Monduli              189\n",
      "Sumbawanga Urban     180\n",
      "Singida Urban        177\n",
      "Sikonge              170\n",
      "Kilindi              161\n",
      "Nanyumbu             158\n",
      "Tabora Urban         155\n",
      "Liwale               154\n",
      "Ilemela              142\n",
      "Mafia                132\n",
      "Mtwara Urban         124\n",
      "Tanga                 99\n",
      "Morogoro Urban        96\n",
      "Kinondoni             93\n",
      "Bukoba Urban          88\n",
      "Songea Urban          80\n",
      "Moshi Urban           79\n",
      "Kigoma Urban          71\n",
      "Arusha Urban          63\n",
      "Lindi Urban           21\n",
      "Nyamagana              1\n",
      "Name: lga, dtype: int64\n",
      "Igosi               307\n",
      "Imalinyi            252\n",
      "Siha Kati           232\n",
      "Mdandu              231\n",
      "Nduruma             217\n",
      "Mishamo             203\n",
      "Kitunda             203\n",
      "Msindo              201\n",
      "Chalinze            196\n",
      "Maji ya Chai        190\n",
      "Usuka               187\n",
      "Ngarenanyuki        172\n",
      "Chanika             171\n",
      "Vikindu             162\n",
      "Mtwango             153\n",
      "Matola              145\n",
      "Zinga/Ikerege       141\n",
      "Wanging'ombe        139\n",
      "Maramba             139\n",
      "Itete               137\n",
      "Magomeni            135\n",
      "Ifakara             134\n",
      "Kikatiti            134\n",
      "Olkokola            133\n",
      "Maposeni            130\n",
      "Igongolo            129\n",
      "Mvomero             129\n",
      "Mlangali            125\n",
      "Nkoma               122\n",
      "Mahongole           121\n",
      "                   ... \n",
      "Sungwisi              1\n",
      "Mlimani               1\n",
      "Simbay                1\n",
      "Themi                 1\n",
      "Rasbura               1\n",
      "Chinugulu             1\n",
      "Ukata                 1\n",
      "Korongoni             1\n",
      "Ikweha                1\n",
      "Thawi                 1\n",
      "Nsemulwa              1\n",
      "Nyamtinga             1\n",
      "Kihangimahuka         1\n",
      "Igogo                 1\n",
      "Uwanja wa Ndege       1\n",
      "Kirongo               1\n",
      "Mawenzi               1\n",
      "Kinungu               1\n",
      "Mitole                1\n",
      "Machinjioni           1\n",
      "Izia                  1\n",
      "Mwanga Kaskazini      1\n",
      "Linda                 1\n",
      "Ifinga                1\n",
      "Matarawe              1\n",
      "Mkumbi                1\n",
      "Kitete                1\n",
      "Burungura             1\n",
      "Kapilula              1\n",
      "Uchindile             1\n",
      "Name: ward, dtype: int64\n",
      "True     51011\n",
      "False     5055\n",
      "Name: public_meeting, dtype: int64\n",
      "K                                               682\n",
      "None                                            644\n",
      "Borehole                                        546\n",
      "Chalinze wate                                   405\n",
      "M                                               400\n",
      "DANIDA                                          379\n",
      "Government                                      320\n",
      "Ngana water supplied scheme                     270\n",
      "wanging'ombe water supply s                     261\n",
      "wanging'ombe supply scheme                      234\n",
      "Bagamoyo wate                                   229\n",
      "I                                               229\n",
      "Uroki-Bomang'ombe water sup                     209\n",
      "N                                               204\n",
      "Kirua kahe gravity water supply trust           193\n",
      "Machumba estate pipe line                       185\n",
      "Makwale water supplied sche                     166\n",
      "Kijiji                                          161\n",
      "S                                               154\n",
      "mtwango water supply scheme                     152\n",
      "Losaa-Kia water supply                          152\n",
      "Handeni Trunk Main(H                            152\n",
      "Mkongoro Two                                    147\n",
      "Roman                                           139\n",
      "Mkongoro One                                    128\n",
      "Maambreni gravity water supply                  125\n",
      "Lyamungo umbwe water supply                     120\n",
      "Kirua kahe pumping water trust                  113\n",
      "Nabaiye pipe line                               107\n",
      "Ki                                              107\n",
      "                                               ... \n",
      "Kapu chini wster supply                           1\n",
      "Lerang'wa water supplly                           1\n",
      "magoto piped Water suplly                         1\n",
      "Kitanuwater supply                                1\n",
      "REGWA Company of Egypt                            1\n",
      "Mirumba                                           1\n",
      "Moroga                                            1\n",
      "BL Nsherehehe                                     1\n",
      "Mand                                              1\n",
      "KKKT Water Project                                1\n",
      "Nduguti  pipes water supply                       1\n",
      "Huma                                              1\n",
      "Mondoros water scheme                             1\n",
      "Oonjorai pipelines                                1\n",
      "Mtunduru                                          1\n",
      "Vihi                                              1\n",
      "Halmashauri                                       1\n",
      "Kibonge Water Supply                              1\n",
      "Magila-Mkumbara wate                              1\n",
      "Kasahunga pipe scheme                             1\n",
      "Lake Tanganyika Basin                             1\n",
      "Mradi wa Maji sekondari kizigo                    1\n",
      "Imesela                                           1\n",
      "Nyakayenzi gravity/point source water supply      1\n",
      "KIIBUWA                                           1\n",
      "Shallow Well                                      1\n",
      "Nahukahuka Primary School                         1\n",
      "Mafi Mountain                                     1\n",
      "Kala                                              1\n",
      "Mradi wa maji wa sed farm                         1\n",
      "Name: scheme_name, dtype: int64\n",
      "True     38852\n",
      "False    17492\n",
      "Name: permit, dtype: int64\n",
      "gravity                      26780\n",
      "nira/tanira                   8154\n",
      "other                         6430\n",
      "submersible                   4764\n",
      "swn 80                        3670\n",
      "mono                          2865\n",
      "india mark ii                 2400\n",
      "afridev                       1770\n",
      "ksb                           1415\n",
      "other - rope pump              451\n",
      "other - swn 81                 229\n",
      "windmill                       117\n",
      "india mark iii                  98\n",
      "cemo                            90\n",
      "other - play pump               85\n",
      "walimi                          48\n",
      "climax                          32\n",
      "other - mkulima/shinyanga        2\n",
      "Name: extraction_type, dtype: int64\n",
      "gravity         26780\n",
      "handpump        16456\n",
      "other            6430\n",
      "submersible      6179\n",
      "motorpump        2987\n",
      "rope pump         451\n",
      "wind-powered      117\n",
      "Name: extraction_type_class, dtype: int64\n",
      "vwc                 40507\n",
      "wug                  6515\n",
      "water board          2933\n",
      "wua                  2535\n",
      "private operator     1971\n",
      "parastatal           1768\n",
      "water authority       904\n",
      "other                 844\n",
      "company               685\n",
      "unknown               561\n",
      "other - school         99\n",
      "trust                  78\n",
      "Name: management, dtype: int64\n",
      "user-group    52490\n",
      "commercial     3638\n",
      "parastatal     1768\n",
      "other           943\n",
      "unknown         561\n",
      "Name: management_group, dtype: int64\n",
      "never pay                25348\n",
      "pay per bucket            8985\n",
      "pay monthly               8300\n",
      "unknown                   8157\n",
      "pay when scheme fails     3914\n",
      "pay annually              3642\n",
      "other                     1054\n",
      "Name: payment, dtype: int64\n",
      "soft                  50818\n",
      "salty                  4856\n",
      "unknown                1876\n",
      "milky                   804\n",
      "coloured                490\n",
      "salty abandoned         339\n",
      "fluoride                200\n",
      "fluoride abandoned       17\n",
      "Name: water_quality, dtype: int64\n",
      "enough          33186\n",
      "insufficient    15129\n",
      "dry              6246\n",
      "seasonal         4050\n",
      "unknown           789\n",
      "Name: quantity, dtype: int64\n",
      "spring                  17021\n",
      "shallow well            16824\n",
      "machine dbh             11075\n",
      "river                    9612\n",
      "rainwater harvesting     2295\n",
      "hand dtw                  874\n",
      "lake                      765\n",
      "dam                       656\n",
      "other                     212\n",
      "unknown                    66\n",
      "Name: source, dtype: int64\n",
      "spring                  17021\n",
      "shallow well            16824\n",
      "borehole                11949\n",
      "river/lake              10377\n",
      "rainwater harvesting     2295\n",
      "dam                       656\n",
      "other                     278\n",
      "Name: source_type, dtype: int64\n",
      "groundwater    45794\n",
      "surface        13328\n",
      "unknown          278\n",
      "Name: source_class, dtype: int64\n",
      "communal standpipe             28522\n",
      "hand pump                      17488\n",
      "other                           6380\n",
      "communal standpipe multiple     6103\n",
      "improved spring                  784\n",
      "cattle trough                    116\n",
      "dam                                7\n",
      "Name: waterpoint_type, dtype: int64\n",
      "communal standpipe    34625\n",
      "hand pump             17488\n",
      "other                  6380\n",
      "improved spring         784\n",
      "cattle trough           116\n",
      "dam                       7\n",
      "Name: waterpoint_type_group, dtype: int64\n",
      "functional                 32259\n",
      "non functional             22824\n",
      "functional needs repair     4317\n",
      "Name: status_group, dtype: int64\n"
     ]
    }
   ],
   "source": [
    "# Print value_counts for all object series\n",
    "\n",
    "for i in obj_columns.columns: \n",
    "    print(obj_columns[i].value_counts())"
   ]
  },
  {
   "cell_type": "code",
   "execution_count": 12,
   "metadata": {
    "collapsed": true
   },
   "outputs": [],
   "source": [
    "# Subset dataframe for those variables that are ints and floats\n",
    "\n",
    "intflt_columns = train_data.select_dtypes(include=['int64', 'float64'])"
   ]
  },
  {
   "cell_type": "code",
   "execution_count": 13,
   "metadata": {
    "collapsed": false
   },
   "outputs": [
    {
     "name": "stdout",
     "output_type": "stream",
     "text": [
      "count    59400.000000\n",
      "mean     37115.131768\n",
      "std      21453.128371\n",
      "min          0.000000\n",
      "25%      18519.750000\n",
      "50%      37061.500000\n",
      "75%      55656.500000\n",
      "max      74247.000000\n",
      "Name: id, dtype: float64\n",
      "count    59400.000000\n",
      "mean       668.297239\n",
      "std        693.116350\n",
      "min        -90.000000\n",
      "25%          0.000000\n",
      "50%        369.000000\n",
      "75%       1319.250000\n",
      "max       2770.000000\n",
      "Name: gps_height, dtype: float64\n",
      "count    59400.000000\n",
      "mean        34.077427\n",
      "std          6.567432\n",
      "min          0.000000\n",
      "25%         33.090347\n",
      "50%         34.908743\n",
      "75%         37.178387\n",
      "max         40.345193\n",
      "Name: longitude, dtype: float64\n",
      "count    5.940000e+04\n",
      "mean    -5.706033e+00\n",
      "std      2.946019e+00\n",
      "min     -1.164944e+01\n",
      "25%     -8.540621e+00\n",
      "50%     -5.021597e+00\n",
      "75%     -3.326156e+00\n",
      "max     -2.000000e-08\n",
      "Name: latitude, dtype: float64\n",
      "count    59400.000000\n",
      "mean        15.297003\n",
      "std         17.587406\n",
      "min          1.000000\n",
      "25%          5.000000\n",
      "50%         12.000000\n",
      "75%         17.000000\n",
      "max         99.000000\n",
      "Name: region_code, dtype: float64\n",
      "count    59400.000000\n",
      "mean         5.629747\n",
      "std          9.633649\n",
      "min          0.000000\n",
      "25%          2.000000\n",
      "50%          3.000000\n",
      "75%          5.000000\n",
      "max         80.000000\n",
      "Name: district_code, dtype: float64\n",
      "count    59400.000000\n",
      "mean       179.909983\n",
      "std        471.482176\n",
      "min          0.000000\n",
      "25%          0.000000\n",
      "50%         25.000000\n",
      "75%        215.000000\n",
      "max      30500.000000\n",
      "Name: population, dtype: float64\n",
      "count    59400.000000\n",
      "mean      1300.652475\n",
      "std        951.620547\n",
      "min          0.000000\n",
      "25%          0.000000\n",
      "50%       1986.000000\n",
      "75%       2004.000000\n",
      "max       2013.000000\n",
      "Name: construction_year, dtype: float64\n"
     ]
    }
   ],
   "source": [
    "for i in intflt_columns.columns: \n",
    "    print(intflt_columns[i].describe())"
   ]
  },
  {
   "cell_type": "markdown",
   "metadata": {},
   "source": [
    "There are several different variables that describe the location of the water pumps. Latitude and longitude are the only continuous variables. Let's plot these to get a sense of what they look like by the water pump status. "
   ]
  },
  {
   "cell_type": "code",
   "execution_count": 14,
   "metadata": {
    "collapsed": true
   },
   "outputs": [],
   "source": [
    "# Split training data into 3 datasets based on status of water pump\n",
    "\n",
    "functional = train_data[train_data[\"status_group\"] == 'functional']\n",
    "non_functional = train_data[train_data[\"status_group\"] == 'non functional']\n",
    "functional_w_repair = train_data[train_data[\"status_group\"] == 'functional needs repair']"
   ]
  },
  {
   "cell_type": "code",
   "execution_count": 15,
   "metadata": {
    "collapsed": false
   },
   "outputs": [
    {
     "data": {
      "image/png": "[encoded data removed]",
      "text/plain": [
       "<matplotlib.figure.Figure at 0x11be2e6d8>"
      ]
     },
     "metadata": {},
     "output_type": "display_data"
    }
   ],
   "source": [
    "# Plot histogram of latitude by frequency for each water pump status\n",
    "\n",
    "functional[\"latitude\"].plot.hist(alpha=0.5,color='green',bins=500, xlim = (-10, 10), ylim = (0, 600), figsize = (10,5))\n",
    "non_functional[\"latitude\"].plot.hist(alpha=0.5,color='blue',bins=500)\n",
    "functional_w_repair[\"latitude\"].plot.hist(alpha=0.5,color='yellow',bins=500)\n",
    "plt.legend(['Functional','Non Functional', 'Functional Needs Repair'])\n",
    "plt.show()"
   ]
  },
  {
   "cell_type": "code",
   "execution_count": 16,
   "metadata": {
    "collapsed": false
   },
   "outputs": [
    {
     "data": {
      "image/png": "[encoded data removed]",
      "text/plain": [
       "<matplotlib.figure.Figure at 0x11b7e8dd8>"
      ]
     },
     "metadata": {},
     "output_type": "display_data"
    }
   ],
   "source": [
    "# Plot histogram of longitude by frequency for each water pump status\n",
    "\n",
    "functional[\"longitude\"].plot.hist(alpha=0.5,color='green',bins=500, xlim = (25, 45), ylim = (0, 800), figsize = (10,5))\n",
    "non_functional[\"longitude\"].plot.hist(alpha=0.5,color='blue',bins=500)\n",
    "functional_w_repair[\"longitude\"].plot.hist(alpha=0.5,color='yellow',bins=500)\n",
    "plt.legend(['Functional','Non Functional', 'Functional Needs Repair'])\n",
    "plt.show()"
   ]
  },
  {
   "cell_type": "markdown",
   "metadata": {},
   "source": [
    "We might also want to further explore the population and construction year variables since we learned from the descriptions above that there are zero values. Plotting the histogram below shows us that there are almost 18,000 values in the column population equal to 0. It wouldn't make sense that the government would build so many water pumps in areas where there are no people. It's more likely that the data is misisng."
   ]
  },
  {
   "cell_type": "code",
   "execution_count": 17,
   "metadata": {
    "collapsed": false
   },
   "outputs": [
    {
     "data": {
      "image/png": "[encoded data removed]",
      "text/plain": [
       "<matplotlib.figure.Figure at 0x11c22ea58>"
      ]
     },
     "metadata": {},
     "output_type": "display_data"
    }
   ],
   "source": [
    "# Plot histogram of population (x-axis) against frequency (y-axis)\n",
    "\n",
    "functional[\"population\"].plot.hist(alpha=0.5,color='green',bins=500, xlim = (0, 3000), ylim = (0, 20000), figsize = (10,5))\n",
    "non_functional[\"population\"].plot.hist(alpha=0.5,color='blue',bins=500)\n",
    "functional_w_repair[\"population\"].plot.hist(alpha=0.5,color='yellow',bins=500)\n",
    "plt.legend(['Functional','Non Functional', 'Functional Needs Repair'])\n",
    "plt.show()"
   ]
  },
  {
   "cell_type": "markdown",
   "metadata": {},
   "source": [
    "Below, I've plotted construction years with a value of 0, and all other values for construction_year separately. Both are plotted by the water pump status. There are more than 10,000 missing values in this column. It looks like a disproportionately large % of non functional water pumps have 0 (missing values).\n",
    "\n",
    "For those values in construction year with non-missing data, eyeballing the data shows that pumps constructed more recently are more likely to be functional. This makes intuitive sense. "
   ]
  },
  {
   "cell_type": "code",
   "execution_count": 18,
   "metadata": {
    "collapsed": false
   },
   "outputs": [
    {
     "data": {
      "image/png": "[encoded data removed]",
      "text/plain": [
       "<matplotlib.figure.Figure at 0x11e293358>"
      ]
     },
     "metadata": {},
     "output_type": "display_data"
    }
   ],
   "source": [
    "# Plot construction years that are from 0 to 100 against frequency\n",
    "\n",
    "functional[\"construction_year\"].plot.hist(alpha=0.5,color='green',bins=500, xlim = (0, 100), figsize = (10,5))\n",
    "non_functional[\"construction_year\"].plot.hist(alpha=0.5,color='blue',bins=500)\n",
    "functional_w_repair[\"construction_year\"].plot.hist(alpha=0.5,color='yellow',bins=500)\n",
    "plt.legend(['Functional','Non Functional', 'Functional Needs Repair'])\n",
    "plt.show()"
   ]
  },
  {
   "cell_type": "code",
   "execution_count": 19,
   "metadata": {
    "collapsed": false
   },
   "outputs": [
    {
     "data": {
      "image/png": "[encoded data removed]",
      "text/plain": [
       "<matplotlib.figure.Figure at 0x1261b72b0>"
      ]
     },
     "metadata": {},
     "output_type": "display_data"
    }
   ],
   "source": [
    "# Plot construction years that are from 1950 to 2015 by water pump outcome\n",
    "\n",
    "functional[\"construction_year\"].plot.hist(alpha=0.5,color='green',bins=500, xlim = (1950, 2015), figsize = (10,5))\n",
    "non_functional[\"construction_year\"].plot.hist(alpha=0.5,color='blue',bins=500)\n",
    "functional_w_repair[\"construction_year\"].plot.hist(alpha=0.5,color='yellow',bins=500)\n",
    "plt.legend(['Functional','Non Functional', 'Functional Needs Repair'])\n",
    "plt.show()"
   ]
  },
  {
   "cell_type": "markdown",
   "metadata": {
    "collapsed": false
   },
   "source": [
    "Missing data: Analyzing descriptive statistics shows us that some features have several 0 values. For example, about 50% of the data in construction year is 0. This only makes sense if 0 was used to denote missing data. We don't want to leave these values as 0 because it will skew the data. Instead, we can fill the 0 values with the column average for all integers."
   ]
  },
  {
   "cell_type": "code",
   "execution_count": 20,
   "metadata": {
    "collapsed": false
   },
   "outputs": [],
   "source": [
    "# Fill 0 values for population and construction year with mean of the respective columns\n",
    "\n",
    "def replace_mean(dataset, column, mean):\n",
    "    return dataset[column].replace(0, mean)\n",
    "\n",
    "pop_mean = train_data[\"population\"].mean()\n",
    "const_mean = train_data[\"construction_year\"].mean()\n",
    "train_data[\"population\"] = replace_mean(train_data, \"population\", pop_mean)\n",
    "train_data[\"construction_year\"] = replace_mean(train_data, \"construction_year\", const_mean)"
   ]
  },
  {
   "cell_type": "markdown",
   "metadata": {},
   "source": [
    "Our graphs above also show that both population and construction year might be more powerful features in our model if we bin them, or convert them into categorical variables. I did this based on eyeballing trends in the data."
   ]
  },
  {
   "cell_type": "code",
   "execution_count": 21,
   "metadata": {
    "collapsed": false
   },
   "outputs": [],
   "source": [
    "# Create categories from integer variable population\n",
    "def cats(dataset, column, cut, labels):\n",
    "    return pd.cut(dataset[column], cut, labels)\n",
    "\n",
    "cut_cons = [1950, 1970, 1990, 2010]\n",
    "labels_cons = ['1950 to 1970','1970 to 1990', '1990 to 2010']\n",
    "train_data[\"construction_year\"] = cats(train_data, \"construction_year\", cut_cons, labels_cons)\n",
    "\n",
    "cut_pop = [0, 300, 1500, 30000]\n",
    "labels_pop = ['0 to 300', '300 to 1500', '1500 to 30000']\n",
    "train_data[\"population\"] = cats(train_data, \"population\", cut_pop, labels_pop)"
   ]
  },
  {
   "cell_type": "code",
   "execution_count": 22,
   "metadata": {
    "collapsed": true
   },
   "outputs": [],
   "source": [
    "# Map each categorical label to an integer so that model can interpret it\n",
    "def remap(dataset, column, mapping):\n",
    "    return dataset[column].map(mapping)\n",
    "\n",
    "train_data[\"population\"] = remap(train_data, \"population\", {'(0, 300]': 0, '(300, 1500]': 1, '(1500, 30000]': 2 })\n",
    "train_data[\"construction_year\"] = remap(train_data, \"construction_year\", {'(1950, 1970]': 0, '(1970, 1990]': 1, '(1990, 2010]': 2 })"
   ]
  },
  {
   "cell_type": "markdown",
   "metadata": {},
   "source": [
    "Now that we've imputed values where information was missing, we also want to make sure that all continuous variables are on the same scale. This is to prevent variables from being overweighted in the model. "
   ]
  },
  {
   "cell_type": "code",
   "execution_count": 23,
   "metadata": {
    "collapsed": false
   },
   "outputs": [],
   "source": [
    "# Rescale continuous variables \n",
    "\n",
    "from sklearn.preprocessing import minmax_scale\n",
    "columns = [\"latitude\", \"longitude\"]\n",
    "train_data[columns] = minmax_scale(train_data[columns])"
   ]
  },
  {
   "cell_type": "markdown",
   "metadata": {},
   "source": [
    "Categorical variables can't be processed as is in a machine learning model. Each category needs to be mapped to an integer. Label encoder in scikit-learn is the most efficient way to remap the variables. For two variables, permit and public_meeting, I manually map the data to ensure that False = 0 and True = 1 for both. These are ordinal variables."
   ]
  },
  {
   "cell_type": "code",
   "execution_count": 24,
   "metadata": {
    "collapsed": false
   },
   "outputs": [],
   "source": [
    "# Change permit and public_meeting to astype boolean \n",
    "\n",
    "def boolean(dataset, column):\n",
    "    return dataset[column].astype('bool')\n",
    "\n",
    "train_data[\"permit\"] = boolean(train_data, \"permit\")\n",
    "train_data[\"public_meeting\"] = boolean(train_data, \"public_meeting\")"
   ]
  },
  {
   "cell_type": "markdown",
   "metadata": {},
   "source": [
    "We also have missing categorical data in the form of NANs. Let's fill NANs for each variable with the most frequent category in that column. "
   ]
  },
  {
   "cell_type": "code",
   "execution_count": 25,
   "metadata": {
    "collapsed": false
   },
   "outputs": [],
   "source": [
    "# Fill categorical variables with most frequent categorical variable\n",
    "\n",
    "train_data = train_data.apply(lambda x:x.fillna(x.value_counts().index[0]))"
   ]
  },
  {
   "cell_type": "code",
   "execution_count": 26,
   "metadata": {
    "collapsed": false
   },
   "outputs": [],
   "source": [
    "# Use label encoder to map categorical variables with to integers\n",
    "\n",
    "from sklearn import preprocessing\n",
    "def labelencode(dataset, column):\n",
    "    le = preprocessing.LabelEncoder()\n",
    "    le.fit(dataset[column])\n",
    "    return le.transform(dataset[column])\n",
    "\n",
    "train_data[\"funder\"] = labelencode(train_data, \"funder\")\n",
    "train_data[\"installer\"] = labelencode(train_data, \"installer\")\n",
    "train_data[\"basin\"] = labelencode(train_data, \"basin\")\n",
    "train_data[\"subvillage\"] = labelencode(train_data, \"subvillage\")\n",
    "train_data[\"region\"] = labelencode(train_data, \"region\")\n",
    "train_data[\"lga\"] = labelencode(train_data, \"lga\")\n",
    "train_data[\"ward\"] = labelencode(train_data, \"ward\")\n",
    "train_data[\"scheme_name\"] = labelencode(train_data, \"scheme_name\")\n",
    "train_data[\"extraction_type\"] = labelencode(train_data, \"extraction_type\")\n",
    "train_data[\"extraction_type_class\"] = labelencode(train_data, \"extraction_type_class\")\n",
    "train_data[\"management\"] = labelencode(train_data, \"management\")\n",
    "train_data[\"management_group\"] = labelencode(train_data, \"management_group\")\n",
    "train_data[\"payment\"] = labelencode(train_data, \"payment\")\n",
    "train_data[\"water_quality\"] = labelencode(train_data, \"water_quality\")\n",
    "train_data[\"quantity\"] = labelencode(train_data, \"quantity\")\n",
    "train_data[\"source\"] = labelencode(train_data, \"source\")\n",
    "train_data[\"source_type\"] = labelencode(train_data, \"source_type\")\n",
    "train_data[\"source_class\"] = labelencode(train_data, \"source_class\")\n",
    "train_data[\"waterpoint_type\"] = labelencode(train_data, \"waterpoint_type\")\n",
    "train_data[\"waterpoint_type_group\"] = labelencode(train_data, \"waterpoint_type_group\")"
   ]
  },
  {
   "cell_type": "markdown",
   "metadata": {},
   "source": [
    "We don't want our model to assume that there's a natural ordering between the categorical variables that we encoded. So, we use one-hot encoding below to prevent this. I've done this for variables with less than 20 categories. Using get_dummies for high-cardinality variables increases run-time, and overfitting in the model. "
   ]
  },
  {
   "cell_type": "code",
   "execution_count": 27,
   "metadata": {
    "collapsed": false
   },
   "outputs": [],
   "source": [
    "# Create dummy columns using get_dummies for variables with less than 20 categories.\n",
    "\n",
    "def dummies(dataset, column):\n",
    "    dummies = pd.get_dummies(dataset[column], prefix = column)\n",
    "    return pd.concat([dataset, dummies], axis=1)\n",
    "\n",
    "train_data = dummies(train_data, \"permit\")\n",
    "train_data = dummies(train_data, \"public_meeting\")\n",
    "train_data = dummies(train_data, \"population\")\n",
    "train_data = dummies(train_data, \"construction_year\")\n",
    "train_data = dummies(train_data, \"basin\")\n",
    "train_data = dummies(train_data, \"extraction_type\")\n",
    "train_data = dummies(train_data, \"extraction_type_class\")\n",
    "train_data = dummies(train_data, \"management\")\n",
    "train_data = dummies(train_data, \"management_group\")\n",
    "train_data = dummies(train_data, \"payment\")\n",
    "train_data = dummies(train_data, \"water_quality\")\n",
    "train_data = dummies(train_data, \"quantity\")\n",
    "train_data = dummies(train_data, \"source\")\n",
    "train_data = dummies(train_data, \"source_type\")\n",
    "train_data = dummies(train_data, \"source_class\")\n",
    "train_data = dummies(train_data, \"waterpoint_type\")\n",
    "train_data = dummies(train_data, \"waterpoint_type_group\")\n",
    "train_data = dummies(train_data, \"region\")"
   ]
  },
  {
   "cell_type": "markdown",
   "metadata": {},
   "source": [
    "We drop the original columns from which dummy variables were created to remove duplication in the model. "
   ]
  },
  {
   "cell_type": "code",
   "execution_count": 28,
   "metadata": {
    "collapsed": false
   },
   "outputs": [],
   "source": [
    "# Drop original columns \n",
    "\n",
    "train_data = drop_columns(train_data, ['permit', 'public_meeting', 'population', 'construction_year', 'basin', 'extraction_type', 'extraction_type_class',\n",
    "                                      'management', 'management_group', 'payment', 'water_quality', 'quantity', 'source', 'source_type', 'source_class', \n",
    "                                      'waterpoint_type', 'waterpoint_type_group'])"
   ]
  },
  {
   "cell_type": "markdown",
   "metadata": {},
   "source": [
    "We don't want to train our data on the entire training set, use the test data set for prediction, and submit a csv to determine our accuracy on DrivenData every time we tweak our model. This is time consuming. Instead, we'll first split the training set up into a train and test set. We'll call the DrivenData test set the holdout test dataset. We'll refer to our dataset as a test dataset. "
   ]
  },
  {
   "cell_type": "code",
   "execution_count": 29,
   "metadata": {
    "collapsed": false
   },
   "outputs": [],
   "source": [
    "# Split training dataset into a train and test set\n",
    "\n",
    "from sklearn.cross_validation import train_test_split\n",
    "columns = ['funder', 'gps_height', 'installer', 'longitude', 'latitude',\n",
    "       'subvillage', 'region', 'region_code', 'district_code', 'lga', 'ward',\n",
    "       'scheme_name', 'permit_False',\n",
    "       'permit_True', 'public_meeting_False', 'public_meeting_True', 'population_0.0',\n",
    "       'population_1.0', 'population_2.0',\n",
    "       'construction_year_0.0', 'construction_year_1.0',\n",
    "       'construction_year_2.0', 'basin_0', 'basin_1', 'basin_2', 'basin_3',\n",
    "       'basin_4', 'basin_5', 'basin_6', 'basin_7', 'basin_8', 'extraction_type_0', 'extraction_type_1', 'extraction_type_2',\n",
    "       'extraction_type_3', 'extraction_type_4', 'extraction_type_5',\n",
    "       'extraction_type_6', 'extraction_type_7', 'extraction_type_8',\n",
    "       'extraction_type_9', 'extraction_type_10', 'extraction_type_11',\n",
    "       'extraction_type_12', 'extraction_type_13', 'extraction_type_14',\n",
    "       'extraction_type_15', 'extraction_type_16', 'extraction_type_17',\n",
    "       'extraction_type_class_0', 'extraction_type_class_1',\n",
    "       'extraction_type_class_2', 'extraction_type_class_3',\n",
    "       'extraction_type_class_4', 'extraction_type_class_5',\n",
    "       'extraction_type_class_6', 'management_0', 'management_1',\n",
    "       'management_2', 'management_3', 'management_4', 'management_5',\n",
    "       'management_6', 'management_7', 'management_8', 'management_9',\n",
    "       'management_10', 'management_11', 'management_group_0',\n",
    "       'management_group_1', 'management_group_2', 'management_group_3',\n",
    "       'management_group_4', 'payment_0', 'payment_1', 'payment_2',\n",
    "       'payment_3', 'payment_4', 'payment_5', 'payment_6', 'water_quality_0',\n",
    "       'water_quality_1', 'water_quality_2', 'water_quality_3',\n",
    "       'water_quality_4', 'water_quality_5', 'water_quality_6',\n",
    "       'water_quality_7', 'quantity_0', 'quantity_1', 'quantity_2',\n",
    "       'quantity_3', 'quantity_4', 'source_0', 'source_1', 'source_2',\n",
    "       'source_3', 'source_4', 'source_5', 'source_6', 'source_7', 'source_8',\n",
    "       'source_9', 'source_type_0', 'source_type_1', 'source_type_2',\n",
    "       'source_type_3', 'source_type_4', 'source_type_5', 'source_type_6',\n",
    "       'source_class_0', 'source_class_1', 'source_class_2',\n",
    "       'waterpoint_type_0', 'waterpoint_type_1', 'waterpoint_type_2',\n",
    "       'waterpoint_type_3', 'waterpoint_type_4', 'waterpoint_type_5',\n",
    "       'waterpoint_type_6', 'waterpoint_type_group_0',\n",
    "       'waterpoint_type_group_1', 'waterpoint_type_group_2',\n",
    "       'waterpoint_type_group_3', 'waterpoint_type_group_4',\n",
    "       'waterpoint_type_group_5', 'region_0', 'region_1', 'region_2',\n",
    "       'region_3', 'region_4', 'region_5', 'region_6', 'region_7', 'region_8',\n",
    "       'region_9', 'region_10', 'region_11', 'region_12', 'region_13',\n",
    "       'region_14', 'region_15', 'region_16', 'region_17', 'region_18',\n",
    "       'region_19', 'region_20']\n",
    "all_X = train_data[columns]\n",
    "all_y = train_data[\"status_group\"]\n",
    "train_X, test_X, train_y, test_y = train_test_split(all_X, all_y, test_size=.2,random_state=0)"
   ]
  },
  {
   "cell_type": "markdown",
   "metadata": {},
   "source": [
    "There are three potential outcomes, so a logistic regression model (for binary outcomes) would not be an appropriate fit for this data. A decision tree model is an option, but after some testing this is not the best option. If I use a random forest model, I can reduce overfitting. This model combines the predictions of multiple models through ensembling in order to create a more accurate final prediction. I use a cross-validation score averaged across 10 scores to assess the accuracy of the model. I've tuned hyperparameters as well. "
   ]
  },
  {
   "cell_type": "code",
   "execution_count": 30,
   "metadata": {
    "collapsed": false
   },
   "outputs": [
    {
     "data": {
      "text/plain": [
       "0.81353517257209196"
      ]
     },
     "execution_count": 30,
     "metadata": {},
     "output_type": "execute_result"
    }
   ],
   "source": [
    "# Determine accuracy score using cross-validation score where k folds = 10\n",
    "from sklearn.ensemble import RandomForestClassifier\n",
    "from sklearn.cross_validation import cross_val_score\n",
    "clf = RandomForestClassifier(n_estimators=160, random_state = 1, min_samples_split=5, max_depth = 150)\n",
    "scores = cross_val_score(clf, all_X, all_y, cv=10)\n",
    "accuracy_rf = scores.mean()\n",
    "accuracy_rf"
   ]
  },
  {
   "cell_type": "markdown",
   "metadata": {},
   "source": [
    "Because there are hundreds of features, I now want to determine which are the most important. Let's use SelectFromModel in scikit-learn to determine this. After experimenting with several threshold values, we set the threshold at .005. If we set it above that, and the accuracy of the model drastically reduces as compared to the original prediction with all of the values."
   ]
  },
  {
   "cell_type": "code",
   "execution_count": 31,
   "metadata": {
    "collapsed": false
   },
   "outputs": [
    {
     "name": "stdout",
     "output_type": "stream",
     "text": [
      "funder\n",
      "gps_height\n",
      "installer\n",
      "longitude\n",
      "latitude\n",
      "subvillage\n",
      "region\n",
      "region_code\n",
      "district_code\n",
      "lga\n",
      "ward\n",
      "scheme_name\n",
      "permit_False\n",
      "permit_True\n",
      "population_0.0\n",
      "population_1.0\n",
      "construction_year_1.0\n",
      "construction_year_2.0\n",
      "extraction_type_3\n",
      "extraction_type_9\n",
      "extraction_type_class_1\n",
      "extraction_type_class_3\n",
      "management_7\n",
      "payment_0\n",
      "payment_3\n",
      "payment_4\n",
      "payment_6\n",
      "water_quality_6\n",
      "water_quality_7\n",
      "quantity_0\n",
      "quantity_1\n",
      "quantity_2\n",
      "quantity_3\n",
      "waterpoint_type_1\n",
      "waterpoint_type_2\n",
      "waterpoint_type_4\n",
      "waterpoint_type_6\n",
      "waterpoint_type_group_5\n"
     ]
    }
   ],
   "source": [
    "# Use SelectFromModel to determine which features are most important to model\n",
    "from sklearn.feature_selection import SelectFromModel\n",
    "\n",
    "feat_labels = all_X.columns\n",
    "clf = RandomForestClassifier(n_estimators=150, random_state = 1, min_samples_split=5, max_depth = 150)\n",
    "select = SelectFromModel(clf, threshold=.005)\n",
    "select.fit(all_X,all_y)\n",
    "for feature_list_index in select.get_support(indices=True):\n",
    "    print(feat_labels[feature_list_index])"
   ]
  },
  {
   "cell_type": "code",
   "execution_count": 32,
   "metadata": {
    "collapsed": false
   },
   "outputs": [
    {
     "data": {
      "text/plain": [
       "0.80934331844553764"
      ]
     },
     "execution_count": 32,
     "metadata": {},
     "output_type": "execute_result"
    }
   ],
   "source": [
    "# Determine accuracy score using cross-validation score k-folds\n",
    "\n",
    "new_columns = ['funder', \"gps_height\", \"installer\", \"longitude\", \"latitude\", \"subvillage\", 'region', 'region_code', \"district_code\", \n",
    "               'lga', \"ward\", \"scheme_name\", \"permit_False\", \"permit_True\", 'population_0.0', 'population_1.0', \"construction_year_1.0\", \"construction_year_2.0\", \n",
    "               \"extraction_type_3\", \"extraction_type_9\", \"extraction_type_class_1\", \"extraction_type_class_3\", \"management_7\", \"payment_0\", \n",
    "               \"payment_3\", \"payment_4\", \"payment_6\", \"water_quality_6\", \"water_quality_7\", \"quantity_0\", \"quantity_1\", \"quantity_2\", \n",
    "               \"quantity_3\", \"waterpoint_type_group_5\", \"waterpoint_type_1\", \"waterpoint_type_2\", \"waterpoint_type_4\", \"waterpoint_type_6\"]\n",
    "new_X = train_data[new_columns]\n",
    "\n",
    "clf = RandomForestClassifier(n_estimators=160, random_state = 1, min_samples_split=5, max_depth = 150)\n",
    "scores = cross_val_score(clf, new_X, all_y, cv=10)\n",
    "accuracy_rf = scores.mean()\n",
    "accuracy_rf"
   ]
  },
  {
   "cell_type": "markdown",
   "metadata": {},
   "source": [
    "We'll now clean up the holdout test data in the same way we cleaned the train dataset."
   ]
  },
  {
   "cell_type": "code",
   "execution_count": 33,
   "metadata": {
    "collapsed": false
   },
   "outputs": [],
   "source": [
    "# Drop same columns that were dropped from training dataset\n",
    "\n",
    "test_data = drop_columns(test, list)"
   ]
  },
  {
   "cell_type": "code",
   "execution_count": 34,
   "metadata": {
    "collapsed": false
   },
   "outputs": [
    {
     "name": "stdout",
     "output_type": "stream",
     "text": [
      "<class 'pandas.core.frame.DataFrame'>\n",
      "Int64Index: 14850 entries, 0 to 14849\n",
      "Data columns (total 30 columns):\n",
      "id                       14850 non-null int64\n",
      "funder                   13981 non-null object\n",
      "gps_height               14850 non-null int64\n",
      "installer                13973 non-null object\n",
      "longitude                14850 non-null float64\n",
      "latitude                 14850 non-null float64\n",
      "basin                    14850 non-null object\n",
      "subvillage               14751 non-null object\n",
      "region                   14850 non-null object\n",
      "region_code              14850 non-null int64\n",
      "district_code            14850 non-null int64\n",
      "lga                      14850 non-null object\n",
      "ward                     14850 non-null object\n",
      "population               14850 non-null int64\n",
      "public_meeting           14029 non-null object\n",
      "scheme_name              7758 non-null object\n",
      "permit                   14113 non-null object\n",
      "construction_year        14850 non-null int64\n",
      "extraction_type          14850 non-null object\n",
      "extraction_type_class    14850 non-null object\n",
      "management               14850 non-null object\n",
      "management_group         14850 non-null object\n",
      "payment                  14850 non-null object\n",
      "water_quality            14850 non-null object\n",
      "quantity                 14850 non-null object\n",
      "source                   14850 non-null object\n",
      "source_type              14850 non-null object\n",
      "source_class             14850 non-null object\n",
      "waterpoint_type          14850 non-null object\n",
      "waterpoint_type_group    14850 non-null object\n",
      "dtypes: float64(2), int64(6), object(22)\n",
      "memory usage: 3.5+ MB\n",
      "None\n"
     ]
    }
   ],
   "source": [
    "# Print info on each of the variables in the test data\n",
    "\n",
    "print(test_data.info())"
   ]
  },
  {
   "cell_type": "code",
   "execution_count": 35,
   "metadata": {
    "collapsed": false
   },
   "outputs": [],
   "source": [
    "# Fill test data columns of population and construction_year with mean for all 0 values\n",
    "\n",
    "test_data[\"population\"] = replace_mean(test_data, \"population\", pop_mean)\n",
    "test_data[\"construction_year\"] = replace_mean(test_data, \"construction_year\", const_mean)"
   ]
  },
  {
   "cell_type": "code",
   "execution_count": 36,
   "metadata": {
    "collapsed": true
   },
   "outputs": [],
   "source": [
    "# Create categorical variables from population and construction_year\n",
    "\n",
    "test_data[\"population\"] = cats(test_data, \"population\", cut_pop, labels_pop)\n",
    "test_data[\"construction_year\"] = cats(test_data, \"construction_year\", cut_cons, labels_cons)"
   ]
  },
  {
   "cell_type": "code",
   "execution_count": 37,
   "metadata": {
    "collapsed": false
   },
   "outputs": [],
   "source": [
    "# Map categorical variables to test data\n",
    "\n",
    "test_data[\"population\"] = remap(test_data, \"population\", {'(0, 300]': 0, '(300, 1500]': 1, '(1500, 30000]': 2 })\n",
    "test_data[\"construction_year\"] = remap(test_data, \"construction_year\", {'(1950, 1970]': 0, '(1970, 1990]': 1, '(1990, 2010]': 2 })"
   ]
  },
  {
   "cell_type": "markdown",
   "metadata": {},
   "source": [
    "The columns below are of mixed types. This yields an error message when you encode the variables in the next step. This is why I've converted them into a single type."
   ]
  },
  {
   "cell_type": "code",
   "execution_count": 38,
   "metadata": {
    "collapsed": false
   },
   "outputs": [],
   "source": [
    "# Convert the columns below from object type to strings \n",
    "\n",
    "columns = [\"funder\", \"installer\", \"subvillage\", \"scheme_name\"]\n",
    "\n",
    "for i in columns:\n",
    "    test_data[i] = test_data[i].astype('str')"
   ]
  },
  {
   "cell_type": "code",
   "execution_count": 39,
   "metadata": {
    "collapsed": false
   },
   "outputs": [],
   "source": [
    "# Label encode test dataset using same transform function from train dataset\n",
    "\n",
    "test_data[\"funder\"] = labelencode(test_data, \"funder\")\n",
    "test_data[\"installer\"] = labelencode(test_data, \"installer\")\n",
    "test_data[\"basin\"] = labelencode(test_data, \"basin\")\n",
    "test_data[\"subvillage\"] = labelencode(test_data, \"subvillage\")\n",
    "test_data[\"region\"] = labelencode(test_data, \"region\")\n",
    "test_data[\"lga\"] = labelencode(test_data, \"lga\")\n",
    "test_data[\"ward\"] = labelencode(test_data, \"ward\")\n",
    "test_data[\"scheme_name\"] = labelencode(test_data, \"scheme_name\")\n",
    "test_data[\"extraction_type\"] = labelencode(test_data, \"extraction_type\")\n",
    "test_data[\"extraction_type_class\"] = labelencode(test_data, \"extraction_type_class\")\n",
    "test_data[\"management\"] = labelencode(test_data, \"management\")\n",
    "test_data[\"management_group\"] = labelencode(test_data, \"management_group\")\n",
    "test_data[\"payment\"] = labelencode(test_data, \"payment\")\n",
    "test_data[\"water_quality\"] = labelencode(test_data, \"water_quality\")\n",
    "test_data[\"quantity\"] = labelencode(test_data, \"quantity\")\n",
    "test_data[\"source\"] = labelencode(test_data, \"source\")\n",
    "test_data[\"source_type\"] = labelencode(test_data, \"source_type\")\n",
    "test_data[\"source_class\"] = labelencode(test_data, \"source_class\")\n",
    "test_data[\"waterpoint_type\"] = labelencode(test_data, \"waterpoint_type\")\n",
    "test_data[\"waterpoint_type_group\"] = labelencode(test_data, \"waterpoint_type_group\")"
   ]
  },
  {
   "cell_type": "code",
   "execution_count": 40,
   "metadata": {
    "collapsed": false
   },
   "outputs": [],
   "source": [
    "# Rescale continuous variables in test data\n",
    "\n",
    "columns = [\"latitude\", \"longitude\"]\n",
    "test_data[columns] = minmax_scale(test_data[columns])"
   ]
  },
  {
   "cell_type": "code",
   "execution_count": 41,
   "metadata": {
    "collapsed": false
   },
   "outputs": [],
   "source": [
    "# Convert permit and public_meeting to booleans\n",
    "\n",
    "test_data[\"permit\"] = boolean(test_data, \"permit\")\n",
    "test_data[\"public_meeting\"] = boolean(test_data, \"public_meeting\")"
   ]
  },
  {
   "cell_type": "code",
   "execution_count": 42,
   "metadata": {
    "collapsed": true
   },
   "outputs": [],
   "source": [
    "# Fill categorical variables with most frequent categorical variable\n",
    "\n",
    "test_data = test_data.apply(lambda x:x.fillna(x.value_counts().index[0]))"
   ]
  },
  {
   "cell_type": "code",
   "execution_count": 43,
   "metadata": {
    "collapsed": true
   },
   "outputs": [],
   "source": [
    "# Get dummies for categorical variables with < 20 categories\n",
    "\n",
    "test_data = dummies(test_data, \"permit\")\n",
    "test_data = dummies(test_data, \"public_meeting\")\n",
    "test_data = dummies(test_data, \"population\")\n",
    "test_data = dummies(test_data, \"construction_year\")\n",
    "test_data = dummies(test_data, \"basin\")\n",
    "test_data = dummies(test_data, \"extraction_type\")\n",
    "test_data = dummies(test_data, \"extraction_type_class\")\n",
    "test_data = dummies(test_data, \"management\")\n",
    "test_data = dummies(test_data, \"management_group\")\n",
    "test_data = dummies(test_data, \"payment\")\n",
    "test_data = dummies(test_data, \"water_quality\")\n",
    "test_data = dummies(test_data, \"quantity\")\n",
    "test_data = dummies(test_data, \"source\")\n",
    "test_data = dummies(test_data, \"source_type\")\n",
    "test_data = dummies(test_data, \"source_class\")\n",
    "test_data = dummies(test_data, \"waterpoint_type\")\n",
    "test_data = dummies(test_data, \"waterpoint_type_group\")\n",
    "test_data = dummies(test_data, \"region\")"
   ]
  },
  {
   "cell_type": "code",
   "execution_count": 44,
   "metadata": {
    "collapsed": true
   },
   "outputs": [],
   "source": [
    "# Drop original columns after creating dummies\n",
    "\n",
    "test_data = drop_columns(test_data, ['permit', 'public_meeting', 'population', 'construction_year', 'basin', 'extraction_type', 'extraction_type_class',\n",
    "                                      'management', 'management_group', 'payment', 'water_quality', 'quantity', 'source', 'source_type', 'source_class', \n",
    "                                      'waterpoint_type', 'waterpoint_type_group'])"
   ]
  },
  {
   "cell_type": "code",
   "execution_count": 45,
   "metadata": {
    "collapsed": false
   },
   "outputs": [
    {
     "data": {
      "text/plain": [
       "RandomForestClassifier(bootstrap=True, class_weight=None, criterion='gini',\n",
       "            max_depth=150, max_features='auto', max_leaf_nodes=None,\n",
       "            min_samples_leaf=1, min_samples_split=5,\n",
       "            min_weight_fraction_leaf=0.0, n_estimators=160, n_jobs=1,\n",
       "            oob_score=False, random_state=1, verbose=0, warm_start=False)"
      ]
     },
     "execution_count": 45,
     "metadata": {},
     "output_type": "execute_result"
    }
   ],
   "source": [
    "# Train data using random forest classifier\n",
    "from sklearn.ensemble import RandomForestClassifier\n",
    "rftree = RandomForestClassifier(n_estimators=160, random_state = 1, min_samples_split=5, max_depth = 150)\n",
    "rftree.fit(train_data[[\"gps_height\", \"longitude\", \"latitude\", \"subvillage\", 'region', 'region_code', \"district_code\", \"installer\",\n",
    "               'lga', \"ward\", \"scheme_name\", \"permit_False\", \"permit_True\", 'population_0.0', 'population_1.0', \"construction_year_1.0\", \"construction_year_2.0\", \n",
    "               \"extraction_type_3\", \"extraction_type_9\", \"extraction_type_class_1\", \"extraction_type_class_3\", \"management_7\", \"payment_0\", \n",
    "               \"payment_3\", \"payment_4\", \"payment_6\", \"water_quality_6\", \"water_quality_7\", \"quantity_0\", \"quantity_1\", \"quantity_2\", \n",
    "               \"quantity_3\", \"waterpoint_type_group_5\", \"waterpoint_type_1\", \"waterpoint_type_2\", \"waterpoint_type_4\", \"waterpoint_type_6\"]], \n",
    "train_data['status_group'])"
   ]
  },
  {
   "cell_type": "code",
   "execution_count": 46,
   "metadata": {
    "collapsed": true
   },
   "outputs": [],
   "source": [
    "# Make predictions on holdout test data\n",
    "predict = rftree.predict(test_data[[\"gps_height\", \"longitude\", \"latitude\", \"subvillage\", 'region', 'region_code', \"district_code\", \"installer\",\n",
    "               'lga', \"ward\", \"scheme_name\", \"permit_False\", \"permit_True\", 'population_0', 'population_1', \"construction_year_1.0\", \"construction_year_2.0\", \n",
    "               \"extraction_type_3\", \"extraction_type_9\", \"extraction_type_class_1\", \"extraction_type_class_3\", \"management_7\", \"payment_0\", \n",
    "               \"payment_3\", \"payment_4\", \"payment_6\", \"water_quality_6\", \"water_quality_7\", \"quantity_0\", \"quantity_1\", \"quantity_2\", \n",
    "               \"quantity_3\", \"waterpoint_type_group_5\", \"waterpoint_type_1\", \"waterpoint_type_2\", \"waterpoint_type_4\", \"waterpoint_type_6\"]])"
   ]
  },
  {
   "cell_type": "code",
   "execution_count": 47,
   "metadata": {
    "collapsed": true
   },
   "outputs": [],
   "source": [
    "# Save predictions in format for submission to DrivenData\n",
    "\n",
    "test_data[\"predictions\"] = predict\n",
    "test = test_data[['id', 'predictions']]"
   ]
  },
  {
   "cell_type": "code",
   "execution_count": 48,
   "metadata": {
    "collapsed": true
   },
   "outputs": [],
   "source": [
    "# Export to excel and submit\n",
    "\n",
    "test.to_excel('/Users/priyabiyer/Desktop/dataquest/predict4.xlsx')"
   ]
  }
 ],
 "metadata": {
  "kernelspec": {
   "display_name": "Python 3",
   "language": "python",
   "name": "python3"
  },
  "language_info": {
   "codemirror_mode": {
    "name": "ipython",
    "version": 3
   },
   "file_extension": ".py",
   "mimetype": "text/x-python",
   "name": "python",
   "nbconvert_exporter": "python",
   "pygments_lexer": "ipython3",
   "version": "3.5.4"
  }
 },
 "nbformat": 4,
 "nbformat_minor": 0
}
